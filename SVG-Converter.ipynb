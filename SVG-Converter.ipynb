{
 "cells": [
  {
   "cell_type": "code",
   "execution_count": 17,
   "outputs": [
    {
     "data": {
      "text/plain": "['svg\\\\stacked_mean_2.svg']"
     },
     "metadata": {},
     "output_type": "display_data"
    },
    {
     "data": {
      "text/plain": "['svg\\\\stacked_mean_2.svg']"
     },
     "metadata": {},
     "output_type": "display_data"
    }
   ],
   "source": [
    "import os\n",
    "import subprocess\n",
    "from IPython.display import display\n",
    "def gather_universal(path: str,filetype: str)-> list:\n",
    "    subdir=path\n",
    "\n",
    "    data=[]\n",
    "    for path, subdirs, files in os.walk(subdir):\n",
    "        for name in files:\n",
    "            if name.endswith(filetype) :\n",
    "\n",
    "                b=(str(os.path.join(path, name)))\n",
    "                data.append(b)\n",
    "    return data\n",
    "\n",
    "images=gather_universal('svg','.svg')\n",
    "display(images)\n",
    "\n",
    "images=[ i.replace('//','/') for i in images]\n",
    "display(images)"
   ],
   "metadata": {
    "collapsed": false,
    "pycharm": {
     "name": "#%%\n"
    }
   }
  },
  {
   "cell_type": "code",
   "execution_count": 18,
   "outputs": [],
   "source": [
    "for i in images:\n",
    "    path='C:/Users/maede/Desktop/cleanup/scientificProject/'+i\n",
    "    subprocess.run('C:/Program Files/Inkscape/bin/inkscape.exe --export-type=emf %s' %path)"
   ],
   "metadata": {
    "collapsed": false,
    "pycharm": {
     "name": "#%%\n"
    }
   }
  },
  {
   "cell_type": "code",
   "execution_count": 18,
   "outputs": [],
   "source": [],
   "metadata": {
    "collapsed": false,
    "pycharm": {
     "name": "#%%\n"
    }
   }
  }
 ],
 "metadata": {
  "kernelspec": {
   "display_name": "Python 3",
   "language": "python",
   "name": "python3"
  },
  "language_info": {
   "codemirror_mode": {
    "name": "ipython",
    "version": 2
   },
   "file_extension": ".py",
   "mimetype": "text/x-python",
   "name": "python",
   "nbconvert_exporter": "python",
   "pygments_lexer": "ipython2",
   "version": "2.7.6"
  }
 },
 "nbformat": 4,
 "nbformat_minor": 0
}