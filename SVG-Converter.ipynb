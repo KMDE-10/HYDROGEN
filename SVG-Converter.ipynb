{
 "cells": [
  {
   "cell_type": "code",
   "execution_count": 7,
   "outputs": [
    {
     "data": {
      "text/plain": "['svg\\\\DRYNIT.svg',\n 'svg\\\\H-Gehalte Nitrogen.svg',\n 'svg\\\\Kerbschlag.svg',\n 'svg\\\\matplot_res01.svg',\n 'svg\\\\Pulverfeuchte.svg',\n 'svg\\\\Q_DRYAIR3d.svg',\n 'svg\\\\Q_DRYAIRarh.svg',\n 'svg\\\\Q_WETAIR3d.svg',\n 'svg\\\\Q_WETAIRarh.svg',\n 'svg\\\\Schmelzextraktion.svg',\n 'svg\\\\stacked_mean_2.svg',\n 'svg\\\\S_DRYAIR3d.svg',\n 'svg\\\\S_DRYAIRarh.svg',\n 'svg\\\\S_WETAIR3d.svg',\n 'svg\\\\S_WETAIRarh.svg',\n 'svg\\\\WETNIT.svg',\n 'svg\\\\X_DRYAIR3d.svg',\n 'svg\\\\X_DRYAIRarh.svg',\n 'svg\\\\X_WETAIR3d.svg',\n 'svg\\\\X_WETAIRarh.svg']"
     },
     "metadata": {},
     "output_type": "display_data"
    },
    {
     "data": {
      "text/plain": "['svg\\\\DRYNIT.svg',\n 'svg\\\\H-Gehalte Nitrogen.svg',\n 'svg\\\\Kerbschlag.svg',\n 'svg\\\\matplot_res01.svg',\n 'svg\\\\Pulverfeuchte.svg',\n 'svg\\\\Q_DRYAIR3d.svg',\n 'svg\\\\Q_DRYAIRarh.svg',\n 'svg\\\\Q_WETAIR3d.svg',\n 'svg\\\\Q_WETAIRarh.svg',\n 'svg\\\\Schmelzextraktion.svg',\n 'svg\\\\stacked_mean_2.svg',\n 'svg\\\\S_DRYAIR3d.svg',\n 'svg\\\\S_DRYAIRarh.svg',\n 'svg\\\\S_WETAIR3d.svg',\n 'svg\\\\S_WETAIRarh.svg',\n 'svg\\\\WETNIT.svg',\n 'svg\\\\X_DRYAIR3d.svg',\n 'svg\\\\X_DRYAIRarh.svg',\n 'svg\\\\X_WETAIR3d.svg',\n 'svg\\\\X_WETAIRarh.svg']"
     },
     "metadata": {},
     "output_type": "display_data"
    }
   ],
   "source": [
    "import os\n",
    "import subprocess\n",
    "from IPython.display import display\n",
    "def gather_universal(path: str,filetype: str)-> list:\n",
    "    subdir=path\n",
    "\n",
    "    data=[]\n",
    "    for path, subdirs, files in os.walk(subdir):\n",
    "        for name in files:\n",
    "            if name.endswith(filetype) and name[-5]!='t'  :\n",
    "\n",
    "                b=(str(os.path.join(path, name)))\n",
    "                data.append(b)\n",
    "    return data\n",
    "\n",
    "images=gather_universal('svg','.svg')\n",
    "display(images)\n",
    "\n",
    "images=[ i.replace('//','/') for i in images]\n",
    "display(images)"
   ],
   "metadata": {
    "collapsed": false,
    "pycharm": {
     "name": "#%%\n"
    }
   }
  },
  {
   "cell_type": "code",
   "execution_count": 8,
   "outputs": [],
   "source": [
    "for i in images:\n",
    "    path='C:/Users/maede/Desktop/cleanup/scientificProject/'+i\n",
    "    subprocess.run('C:/Program Files/Inkscape/bin/inkscape.exe --export-type=emf %s' %path)"
   ],
   "metadata": {
    "collapsed": false,
    "pycharm": {
     "name": "#%%\n"
    }
   }
  },
  {
   "cell_type": "code",
   "execution_count": 8,
   "outputs": [],
   "source": [],
   "metadata": {
    "collapsed": false,
    "pycharm": {
     "name": "#%%\n"
    }
   }
  }
 ],
 "metadata": {
  "kernelspec": {
   "display_name": "Python 3",
   "language": "python",
   "name": "python3"
  },
  "language_info": {
   "codemirror_mode": {
    "name": "ipython",
    "version": 2
   },
   "file_extension": ".py",
   "mimetype": "text/x-python",
   "name": "python",
   "nbconvert_exporter": "python",
   "pygments_lexer": "ipython2",
   "version": "2.7.6"
  }
 },
 "nbformat": 4,
 "nbformat_minor": 0
}